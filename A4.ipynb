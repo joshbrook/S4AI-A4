{
 "cells": [
  {
   "cell_type": "code",
   "execution_count": null,
   "metadata": {
    "is_executing": true
   },
   "outputs": [],
   "source": [
    "import numpy as np\n",
    "import random"
   ]
  },
  {
   "cell_type": "code",
   "execution_count": 3,
   "metadata": {},
   "outputs": [],
   "source": [
    "s = (95, 31)\n",
    "j = (86, 6)\n",
    "h = (3, 42)"
   ]
  },
  {
   "cell_type": "code",
   "execution_count": 11,
   "metadata": {},
   "outputs": [],
   "source": [
    "def dist(x, v):\n",
    "    return np.log(3 + (x[0] - v[0])**2 + (x[1] - v[1])**2)\n",
    "\n",
    "def diff(x):\n",
    "    return dist(x, s) + dist(x, j) + dist(x, h)"
   ]
  },
  {
   "cell_type": "code",
   "execution_count": 16,
   "metadata": {},
   "outputs": [
    {
     "name": "stdout",
     "output_type": "stream",
     "text": [
      "Mean: 23.273546045290335\n",
      "Min: 19.410494911457768\n",
      "Max: 27.10159571530205\n"
     ]
    }
   ],
   "source": [
    "diffs = []\n",
    "for _ in range(20):\n",
    "    i1 = random.randint(0,100)\n",
    "    i2 = random.randint(0,100)\n",
    "    diffs.append(diff((i1, i2)))\n",
    "\n",
    "print(\"Mean:\", np.mean(diffs))\n",
    "print(\"Min:\", np.min(diffs))\n",
    "print(\"Max:\", np.max(diffs))"
   ]
  },
  {
   "cell_type": "code",
   "execution_count": null,
   "metadata": {},
   "outputs": [],
   "source": [
    "x0 = (50,50)"
   ]
  }
 ],
 "metadata": {
  "kernelspec": {
   "display_name": "Python 3",
   "language": "python",
   "name": "python3"
  },
  "language_info": {
   "codemirror_mode": {
    "name": "ipython",
    "version": 3
   },
   "file_extension": ".py",
   "mimetype": "text/x-python",
   "name": "python",
   "nbconvert_exporter": "python",
   "pygments_lexer": "ipython3",
   "version": "3.12.0"
  }
 },
 "nbformat": 4,
 "nbformat_minor": 2
}
